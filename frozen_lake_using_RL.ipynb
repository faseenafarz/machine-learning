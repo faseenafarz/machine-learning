{
  "nbformat": 4,
  "nbformat_minor": 0,
  "metadata": {
    "colab": {
      "provenance": [],
      "authorship_tag": "ABX9TyO9ou8yKXKxU0UnJFY4M2pg",
      "include_colab_link": true
    },
    "kernelspec": {
      "name": "python3",
      "display_name": "Python 3"
    },
    "language_info": {
      "name": "python"
    }
  },
  "cells": [
    {
      "cell_type": "markdown",
      "metadata": {
        "id": "view-in-github",
        "colab_type": "text"
      },
      "source": [
        "<a href=\"https://colab.research.google.com/github/faseenafarz/machine-learning/blob/main/frozen_lake_using_RL.ipynb\" target=\"_parent\"><img src=\"https://colab.research.google.com/assets/colab-badge.svg\" alt=\"Open In Colab\"/></a>"
      ]
    },
    {
      "cell_type": "code",
      "execution_count": null,
      "metadata": {
        "id": "e7iDHJ9emW5N"
      },
      "outputs": [],
      "source": [
        "import numpy as np\n",
        "import gym\n",
        "import random\n",
        "import time\n",
        "from IPython.display import clear_output"
      ]
    },
    {
      "cell_type": "code",
      "source": [
        "env = gym.make('FrozenLake-v1', render_mode='ansi')"
      ],
      "metadata": {
        "id": "md_LDbdbmjps"
      },
      "execution_count": null,
      "outputs": []
    },
    {
      "cell_type": "code",
      "source": [
        "action_space_size = env.action_space.n\n",
        "state_space_size = env.observation_space.n\n",
        "\n",
        "q_table = np.zeros((state_space_size, action_space_size))"
      ],
      "metadata": {
        "id": "z_pngyLImr3R"
      },
      "execution_count": null,
      "outputs": []
    },
    {
      "cell_type": "code",
      "source": [
        "print(q_table)"
      ],
      "metadata": {
        "colab": {
          "base_uri": "https://localhost:8080/"
        },
        "id": "oVtLkdklmxWm",
        "outputId": "82b7a050-bbfe-4489-dded-6b005dab9445"
      },
      "execution_count": null,
      "outputs": [
        {
          "output_type": "stream",
          "name": "stdout",
          "text": [
            "[[0. 0. 0. 0.]\n",
            " [0. 0. 0. 0.]\n",
            " [0. 0. 0. 0.]\n",
            " [0. 0. 0. 0.]\n",
            " [0. 0. 0. 0.]\n",
            " [0. 0. 0. 0.]\n",
            " [0. 0. 0. 0.]\n",
            " [0. 0. 0. 0.]\n",
            " [0. 0. 0. 0.]\n",
            " [0. 0. 0. 0.]\n",
            " [0. 0. 0. 0.]\n",
            " [0. 0. 0. 0.]\n",
            " [0. 0. 0. 0.]\n",
            " [0. 0. 0. 0.]\n",
            " [0. 0. 0. 0.]\n",
            " [0. 0. 0. 0.]]\n"
          ]
        }
      ]
    },
    {
      "cell_type": "code",
      "source": [
        "\n",
        "num_episodes =20000\n",
        "max_steps_per_episode = 100\n",
        "\n",
        "learning_rate = 0.1\n",
        "discount_rate = 0.99\n",
        "\n",
        "exploration_rate = 1\n",
        "max_exploration_rate = 1\n",
        "min_exploration_rate = 0.01\n",
        "exploration_decay_rate = 0.001"
      ],
      "metadata": {
        "id": "8z6fN9JlnIlj"
      },
      "execution_count": null,
      "outputs": []
    },
    {
      "cell_type": "code",
      "source": [
        "rewards_all_episodes = []\n",
        "for episode in range(num_episodes):\n",
        "    state = env.reset()\n",
        "    done = False\n",
        "    rewards_current_episode = 0\n",
        "\n",
        "    for step in range(max_steps_per_episode):\n",
        "      # Exploration-exploitation trade-off\n",
        "       exploration_rate_threshold = random.uniform(0, 1)\n",
        "       if exploration_rate_threshold > exploration_rate:\n",
        "           action = np.argmax(q_table[state,:])\n",
        "       else:\n",
        "           action = env.action_space.sample()\n",
        "       new_state, reward, done, info = env.step(action)\n",
        "\n",
        "       q_table[state, action] = q_table[state, action] * (1 - learning_rate) + \\\n",
        "       learning_rate * (reward + discount_rate * np.max(q_table[new_state, :]))\n",
        "\n",
        "       state = new_state\n",
        "       rewards_current_episode += reward\n",
        "\n",
        "       if done == True:\n",
        "          break\n",
        "\n",
        "    exploration_rate = min_exploration_rate + \\\n",
        "       (max_exploration_rate - min_exploration_rate) * np.exp(-exploration_decay_rate*episode)\n",
        "    rewards_all_episodes.append(rewards_current_episode)\n",
        "\n",
        "\n",
        "rewards_per_thousand_episodes = np.split(np.array(rewards_all_episodes),num_episodes/1000)\n",
        "count = 1000\n",
        "\n",
        "print(\"********Average reward per thousand episodes********\\n\")\n",
        "for r in rewards_per_thousand_episodes:\n",
        "    print(count, \": \", str(sum(r/1000)))\n",
        "    count += 1000\n",
        "\n"
      ],
      "metadata": {
        "colab": {
          "base_uri": "https://localhost:8080/"
        },
        "id": "YBG2iRl-nTu0",
        "outputId": "621f8592-ef22-4d1f-e539-f53cbf27b434"
      },
      "execution_count": null,
      "outputs": [
        {
          "output_type": "stream",
          "name": "stderr",
          "text": [
            "/usr/local/lib/python3.10/dist-packages/gym/utils/passive_env_checker.py:241: DeprecationWarning: `np.bool8` is a deprecated alias for `np.bool_`.  (Deprecated NumPy 1.24)\n",
            "  if not isinstance(terminated, (bool, np.bool8)):\n"
          ]
        },
        {
          "output_type": "stream",
          "name": "stdout",
          "text": [
            "********Average reward per thousand episodes********\n",
            "\n",
            "1000 :  0.04500000000000003\n",
            "2000 :  0.20500000000000015\n",
            "3000 :  0.4140000000000003\n",
            "4000 :  0.5230000000000004\n",
            "5000 :  0.5980000000000004\n",
            "6000 :  0.6590000000000005\n",
            "7000 :  0.6750000000000005\n",
            "8000 :  0.6660000000000005\n",
            "9000 :  0.6830000000000005\n",
            "10000 :  0.6550000000000005\n",
            "11000 :  0.6810000000000005\n",
            "12000 :  0.6850000000000005\n",
            "13000 :  0.6800000000000005\n",
            "14000 :  0.6900000000000005\n",
            "15000 :  0.6830000000000005\n",
            "16000 :  0.6970000000000005\n",
            "17000 :  0.6740000000000005\n",
            "18000 :  0.6470000000000005\n",
            "19000 :  0.6840000000000005\n",
            "20000 :  0.6630000000000005\n"
          ]
        }
      ]
    },
    {
      "cell_type": "code",
      "source": [
        "print(\"\\n\\n********Q-table********\\n\")\n",
        "print(q_table)"
      ],
      "metadata": {
        "colab": {
          "base_uri": "https://localhost:8080/"
        },
        "id": "NdMqOY6hnv2d",
        "outputId": "521b4aad-ee1e-4512-dcc1-2269562028ba"
      },
      "execution_count": null,
      "outputs": [
        {
          "output_type": "stream",
          "name": "stdout",
          "text": [
            "\n",
            "\n",
            "********Q-table********\n",
            "\n",
            "[[0.53468912 0.48163072 0.48044037 0.47497567]\n",
            " [0.34703578 0.30377798 0.21843754 0.4061254 ]\n",
            " [0.3379793  0.27644686 0.27580332 0.25707262]\n",
            " [0.05296371 0.13433808 0.04232922 0.06652103]\n",
            " [0.55026364 0.38261244 0.31425888 0.4293287 ]\n",
            " [0.         0.         0.         0.        ]\n",
            " [0.1158252  0.08668613 0.21930039 0.13053169]\n",
            " [0.         0.         0.         0.        ]\n",
            " [0.34790388 0.36237715 0.39490691 0.56843952]\n",
            " [0.46646929 0.57652336 0.34895425 0.34897296]\n",
            " [0.50321387 0.33781034 0.29818905 0.3536165 ]\n",
            " [0.         0.         0.         0.        ]\n",
            " [0.         0.         0.         0.        ]\n",
            " [0.48276888 0.46417191 0.7375791  0.45607485]\n",
            " [0.72962063 0.8895863  0.7178632  0.73033907]\n",
            " [0.         0.         0.         0.        ]]\n"
          ]
        }
      ]
    },
    {
      "cell_type": "code",
      "source": [
        "\n",
        "for episode in range(3):\n",
        "    state = env.reset()\n",
        "    done = False\n",
        "    print(\"*****EPISODE \", episode+1, \"*****\\n\\n\\n\\n\")\n",
        "    time.sleep(1)\n",
        "\n",
        "    for step in range(max_steps_per_episode):\n",
        "       clear_output(wait=True)\n",
        "       print(env.render())\n",
        "       time.sleep(0.3)\n",
        "\n",
        "       action = np.argmax(q_table[state,:])\n",
        "       new_state, reward, done, info = env.step(action)\n",
        "\n",
        "\n",
        "       if done:\n",
        "          clear_output(wait=True)\n",
        "          env.render()\n",
        "          if reward == 1:\n",
        "             print(\"****You reached the goal!****\")\n",
        "             time.sleep(3)\n",
        "          else:\n",
        "             print(\"****You fell through a hole!****\")\n",
        "             time.sleep(3)\n",
        "          clear_output(wait=True)\n",
        "          break\n",
        "       state = new_state\n",
        "env.close()\n",
        "\n"
      ],
      "metadata": {
        "colab": {
          "base_uri": "https://localhost:8080/"
        },
        "id": "_f00nDYOn44-",
        "outputId": "ba8914f7-3fd9-4614-9859-dbddd3b06aaf"
      },
      "execution_count": null,
      "outputs": [
        {
          "output_type": "stream",
          "name": "stdout",
          "text": [
            "****You reached the goal!****\n"
          ]
        }
      ]
    },
    {
      "cell_type": "code",
      "source": [
        "!pip install gymnasium"
      ],
      "metadata": {
        "colab": {
          "base_uri": "https://localhost:8080/"
        },
        "id": "LpFoRx776EAf",
        "outputId": "e437f018-8031-460d-8b77-31a9399601db"
      },
      "execution_count": null,
      "outputs": [
        {
          "output_type": "stream",
          "name": "stderr",
          "text": [
            "/usr/local/lib/python3.10/dist-packages/ipykernel/ipkernel.py:283: DeprecationWarning: `should_run_async` will not call `transform_cell` automatically in the future. Please pass the result to `transformed_cell` argument and any exception that happen during thetransform in `preprocessing_exc_tuple` in IPython 7.17 and above.\n",
            "  and should_run_async(code)\n"
          ]
        },
        {
          "output_type": "stream",
          "name": "stdout",
          "text": [
            "Collecting gymnasium\n",
            "  Downloading gymnasium-0.29.1-py3-none-any.whl (953 kB)\n",
            "\u001b[2K     \u001b[90m━━━━━━━━━━━━━━━━━━━━━━━━━━━━━━━━━━━━━━━━\u001b[0m \u001b[32m953.9/953.9 kB\u001b[0m \u001b[31m9.4 MB/s\u001b[0m eta \u001b[36m0:00:00\u001b[0m\n",
            "\u001b[?25hRequirement already satisfied: numpy>=1.21.0 in /usr/local/lib/python3.10/dist-packages (from gymnasium) (1.25.2)\n",
            "Requirement already satisfied: cloudpickle>=1.2.0 in /usr/local/lib/python3.10/dist-packages (from gymnasium) (2.2.1)\n",
            "Requirement already satisfied: typing-extensions>=4.3.0 in /usr/local/lib/python3.10/dist-packages (from gymnasium) (4.11.0)\n",
            "Collecting farama-notifications>=0.0.1 (from gymnasium)\n",
            "  Downloading Farama_Notifications-0.0.4-py3-none-any.whl (2.5 kB)\n",
            "Installing collected packages: farama-notifications, gymnasium\n",
            "Successfully installed farama-notifications-0.0.4 gymnasium-0.29.1\n"
          ]
        }
      ]
    }
  ]
}